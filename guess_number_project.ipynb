{
 "cells": [
  {
   "cell_type": "code",
   "execution_count": 3,
   "id": "57d22045",
   "metadata": {},
   "outputs": [
    {
     "name": "stdout",
     "output_type": "stream",
     "text": [
      "Welcome to the Number Guessing Game!\n",
      "I'm thinking of a number between 1 and 100.\n",
      "Enter your guess: 37\n",
      "Try a higher number.\n",
      "Enter your guess: 73\n",
      "Try a higher number.\n",
      "Enter your guess: 99\n",
      "Try a lower number.\n",
      "Enter your guess: 85\n",
      "Try a higher number.\n",
      "Enter your guess: 90\n",
      "Try a higher number.\n",
      "Enter your guess: 98\n",
      "Try a lower number.\n",
      "Enter your guess: 94\n",
      "Try a higher number.\n",
      "Enter your guess: 96\n",
      "Try a lower number.\n",
      "Enter your guess: 95\n",
      "Congratulations! You guessed the number 95 in 9 attempts.\n"
     ]
    }
   ],
   "source": [
    "import random\n",
    "\n",
    "def guess_the_number():\n",
    "    # Generate a random number between 1 and 100\n",
    "    secret_number = random.randint(1, 100)\n",
    "    \n",
    "    # Initialize the number of attempts\n",
    "    attempts = 0\n",
    "    \n",
    "    print(\"Welcome to the Number Guessing Game!\")\n",
    "    print(\"I'm thinking of a number between 1 and 100.\")\n",
    "    \n",
    "    while True:\n",
    "        try:\n",
    "            # Get the player's guess\n",
    "            guess = int(input(\"Enter your guess: \"))\n",
    "            \n",
    "            # Increment the number of attempts\n",
    "            attempts += 1\n",
    "            \n",
    "            # Check if the guess is correct\n",
    "            if guess == secret_number:\n",
    "                print(f\"Congratulations! You guessed the number {secret_number} in {attempts} attempts.\")\n",
    "                break\n",
    "            elif guess < secret_number:\n",
    "                print(\"Try a higher number.\")\n",
    "            else:\n",
    "                print(\"Try a lower number.\")\n",
    "        except ValueError:\n",
    "            print(\"Please enter a valid number between 1 and 100.\")\n",
    "\n",
    "if __name__ == \"__main__\":\n",
    "    guess_the_number()\n"
   ]
  },
  {
   "cell_type": "code",
   "execution_count": null,
   "id": "1f3881fc",
   "metadata": {},
   "outputs": [],
   "source": []
  }
 ],
 "metadata": {
  "kernelspec": {
   "display_name": "Python 3 (ipykernel)",
   "language": "python",
   "name": "python3"
  },
  "language_info": {
   "codemirror_mode": {
    "name": "ipython",
    "version": 3
   },
   "file_extension": ".py",
   "mimetype": "text/x-python",
   "name": "python",
   "nbconvert_exporter": "python",
   "pygments_lexer": "ipython3",
   "version": "3.11.5"
  }
 },
 "nbformat": 4,
 "nbformat_minor": 5
}
